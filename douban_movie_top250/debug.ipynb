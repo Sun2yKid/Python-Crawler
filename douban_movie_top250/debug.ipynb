{
 "cells": [
  {
   "cell_type": "code",
   "execution_count": 1,
   "metadata": {},
   "outputs": [],
   "source": [
    "from bs4 import BeautifulSoup\n"
   ]
  },
  {
   "cell_type": "code",
   "execution_count": null,
   "metadata": {},
   "outputs": [],
   "source": [
    "soup = BeautifulSoup(open(\"result.html\", encoding=\"utf-8\"))\n",
    "soup"
   ]
  },
  {
   "cell_type": "code",
   "execution_count": null,
   "metadata": {},
   "outputs": [],
   "source": [
    "soup.ol"
   ]
  },
  {
   "cell_type": "code",
   "execution_count": 14,
   "metadata": {},
   "outputs": [],
   "source": [
    "a_tag = soup.ol.find_all('a')"
   ]
  },
  {
   "cell_type": "code",
   "execution_count": 15,
   "metadata": {},
   "outputs": [
    {
     "data": {
      "text/plain": [
       "<a href=\"https://movie.douban.com/subject/1292052/\">\n",
       "<img alt=\"肖申克的救赎\" class=\"\" src=\"https://img3.doubanio.com/view/photo/s_ratio_poster/public/p480747492.jpg\" width=\"100\"/>\n",
       "</a>"
      ]
     },
     "execution_count": 15,
     "metadata": {},
     "output_type": "execute_result"
    }
   ],
   "source": [
    "a_tag[0]"
   ]
  },
  {
   "cell_type": "code",
   "execution_count": 20,
   "metadata": {},
   "outputs": [
    {
     "data": {
      "text/plain": [
       "[<a href=\"https://movie.douban.com/subject/1292052/\">\n",
       " <img alt=\"肖申克的救赎\" class=\"\" src=\"https://img3.doubanio.com/view/photo/s_ratio_poster/public/p480747492.jpg\" width=\"100\"/>\n",
       " </a>, <a class=\"\" href=\"https://movie.douban.com/subject/1292052/\">\n",
       " <span class=\"title\">肖申克的救赎</span>\n",
       " <span class=\"title\"> / The Shawshank Redemption</span>\n",
       " <span class=\"other\"> / 月黑高飞(港)  /  刺激1995(台)</span>\n",
       " </a>]"
      ]
     },
     "execution_count": 20,
     "metadata": {},
     "output_type": "execute_result"
    }
   ],
   "source": [
    "a_tag[:2]"
   ]
  },
  {
   "cell_type": "code",
   "execution_count": 29,
   "metadata": {},
   "outputs": [
    {
     "name": "stdout",
     "output_type": "stream",
     "text": [
      "https://movie.douban.com/subject/1292052/\n",
      "https://movie.douban.com/subject/1291546/\n",
      "https://movie.douban.com/subject/1292720/\n",
      "https://movie.douban.com/subject/1295644/\n",
      "https://movie.douban.com/subject/1292063/\n",
      "https://movie.douban.com/subject/1292722/\n",
      "https://movie.douban.com/subject/1291561/\n",
      "https://movie.douban.com/subject/1295124/\n",
      "https://movie.douban.com/subject/3541415/\n",
      "https://movie.douban.com/subject/3011091/\n",
      "https://movie.douban.com/subject/1292001/\n",
      "https://movie.douban.com/subject/2131459/\n",
      "https://movie.douban.com/subject/3793023/\n",
      "https://movie.douban.com/subject/1292064/\n",
      "https://movie.douban.com/subject/1291549/\n",
      "https://movie.douban.com/subject/1889243/\n",
      "https://movie.douban.com/subject/1292213/\n",
      "https://movie.douban.com/subject/5912992/\n",
      "https://movie.douban.com/subject/1291560/\n",
      "https://movie.douban.com/subject/1307914/\n",
      "https://movie.douban.com/subject/1291841/\n",
      "https://movie.douban.com/subject/25662329/\n",
      "https://movie.douban.com/subject/1849031/\n",
      "https://movie.douban.com/subject/3319755/\n",
      "https://movie.douban.com/subject/6786002/\n"
     ]
    }
   ],
   "source": [
    "for i in range(0, len(a_tag), 2):\n",
    "    print(a_tag[i].get('href'))"
   ]
  },
  {
   "cell_type": "code",
   "execution_count": 30,
   "metadata": {},
   "outputs": [
    {
     "data": {
      "text/plain": [
       "[<a href=\"https://movie.douban.com/subject/1292052/\">\n",
       " <img alt=\"肖申克的救赎\" class=\"\" src=\"https://img3.doubanio.com/view/photo/s_ratio_poster/public/p480747492.jpg\" width=\"100\"/>\n",
       " </a>, <a class=\"\" href=\"https://movie.douban.com/subject/1292052/\">\n",
       " <span class=\"title\">肖申克的救赎</span>\n",
       " <span class=\"title\"> / The Shawshank Redemption</span>\n",
       " <span class=\"other\"> / 月黑高飞(港)  /  刺激1995(台)</span>\n",
       " </a>]"
      ]
     },
     "execution_count": 30,
     "metadata": {},
     "output_type": "execute_result"
    }
   ],
   "source": [
    "a_tag[:2]"
   ]
  },
  {
   "cell_type": "code",
   "execution_count": 31,
   "metadata": {},
   "outputs": [
    {
     "data": {
      "text/plain": [
       "<a href=\"https://movie.douban.com/subject/1292052/\">\n",
       "<img alt=\"肖申克的救赎\" class=\"\" src=\"https://img3.doubanio.com/view/photo/s_ratio_poster/public/p480747492.jpg\" width=\"100\"/>\n",
       "</a>"
      ]
     },
     "execution_count": 31,
     "metadata": {},
     "output_type": "execute_result"
    }
   ],
   "source": [
    "a_tag[0]"
   ]
  },
  {
   "cell_type": "code",
   "execution_count": 33,
   "metadata": {},
   "outputs": [
    {
     "data": {
      "text/plain": [
       "<img alt=\"肖申克的救赎\" class=\"\" src=\"https://img3.doubanio.com/view/photo/s_ratio_poster/public/p480747492.jpg\" width=\"100\"/>"
      ]
     },
     "execution_count": 33,
     "metadata": {},
     "output_type": "execute_result"
    }
   ],
   "source": [
    "a_tag[0].img"
   ]
  },
  {
   "cell_type": "code",
   "execution_count": 34,
   "metadata": {},
   "outputs": [
    {
     "data": {
      "text/plain": [
       "'肖申克的救赎'"
      ]
     },
     "execution_count": 34,
     "metadata": {},
     "output_type": "execute_result"
    }
   ],
   "source": [
    "a_tag[0].img.get('alt')"
   ]
  },
  {
   "cell_type": "code",
   "execution_count": 36,
   "metadata": {},
   "outputs": [
    {
     "data": {
      "text/plain": [
       "'https://img3.doubanio.com/view/photo/s_ratio_poster/public/p480747492.jpg'"
      ]
     },
     "execution_count": 36,
     "metadata": {},
     "output_type": "execute_result"
    }
   ],
   "source": [
    "a_tag[0].img.get('src')"
   ]
  },
  {
   "cell_type": "code",
   "execution_count": 35,
   "metadata": {},
   "outputs": [
    {
     "name": "stdout",
     "output_type": "stream",
     "text": [
      "肖申克的救赎\n",
      "霸王别姬\n",
      "阿甘正传\n",
      "这个杀手不太冷\n",
      "美丽人生\n",
      "泰坦尼克号\n",
      "千与千寻\n",
      "辛德勒的名单\n",
      "盗梦空间\n",
      "忠犬八公的故事\n",
      "海上钢琴师\n",
      "机器人总动员\n",
      "三傻大闹宝莱坞\n",
      "楚门的世界\n",
      "放牛班的春天\n",
      "星际穿越\n",
      "大话西游之大圣娶亲\n",
      "熔炉\n",
      "龙猫\n",
      "无间道\n",
      "教父\n",
      "疯狂动物城\n",
      "当幸福来敲门\n",
      "怦然心动\n",
      "触不可及\n"
     ]
    }
   ],
   "source": [
    "for i in range(0, len(a_tag), 2):\n",
    "    print(a_tag[i].img.get('alt'))"
   ]
  },
  {
   "cell_type": "code",
   "execution_count": 43,
   "metadata": {},
   "outputs": [],
   "source": [
    "base_url = 'https://movie.douban.com/top250'\n",
    "all_pages = [base_url + '?start=%d' % (i*25) for i in range(10)]"
   ]
  },
  {
   "cell_type": "code",
   "execution_count": 44,
   "metadata": {},
   "outputs": [
    {
     "data": {
      "text/plain": [
       "['https://movie.douban.com/top250?start=0',\n",
       " 'https://movie.douban.com/top250?start=25',\n",
       " 'https://movie.douban.com/top250?start=50',\n",
       " 'https://movie.douban.com/top250?start=75',\n",
       " 'https://movie.douban.com/top250?start=100',\n",
       " 'https://movie.douban.com/top250?start=125',\n",
       " 'https://movie.douban.com/top250?start=150',\n",
       " 'https://movie.douban.com/top250?start=175',\n",
       " 'https://movie.douban.com/top250?start=200',\n",
       " 'https://movie.douban.com/top250?start=225']"
      ]
     },
     "execution_count": 44,
     "metadata": {},
     "output_type": "execute_result"
    }
   ],
   "source": [
    "all_pages"
   ]
  },
  {
   "cell_type": "code",
   "execution_count": 46,
   "metadata": {},
   "outputs": [],
   "source": [
    "import requests\n",
    "headers = {'user-agent': 'my-app/0.0.1'}\n",
    "r = requests.get(base_url, headers=headers)"
   ]
  },
  {
   "cell_type": "code",
   "execution_count": 48,
   "metadata": {},
   "outputs": [
    {
     "data": {
      "text/plain": [
       "'utf-8'"
      ]
     },
     "execution_count": 48,
     "metadata": {},
     "output_type": "execute_result"
    }
   ],
   "source": [
    "r.encoding"
   ]
  },
  {
   "cell_type": "code",
   "execution_count": 49,
   "metadata": {},
   "outputs": [
    {
     "data": {
      "text/plain": [
       "bytes"
      ]
     },
     "execution_count": 49,
     "metadata": {},
     "output_type": "execute_result"
    }
   ],
   "source": [
    "type(r.content)"
   ]
  },
  {
   "cell_type": "code",
   "execution_count": 51,
   "metadata": {},
   "outputs": [],
   "source": [
    "s = BeautifulSoup(r.text)"
   ]
  },
  {
   "cell_type": "code",
   "execution_count": null,
   "metadata": {},
   "outputs": [],
   "source": [
    "s"
   ]
  },
  {
   "cell_type": "code",
   "execution_count": 83,
   "metadata": {},
   "outputs": [
    {
     "data": {
      "text/plain": [
       "[{'name': '肖申克的救赎',\n",
       "  'href': 'https://movie.douban.com/subject/1292052/',\n",
       "  'src': 'https://img3.doubanio.com/view/photo/s_ratio_poster/public/p480747492.jpg',\n",
       "  'roles': '导演: 弗兰克·德拉邦特 Frank Darabont 主演: 蒂姆·罗宾斯 Tim Robbins /... 1994 / 美国 / 犯罪 剧情'},\n",
       " {'name': '霸王别姬',\n",
       "  'href': 'https://movie.douban.com/subject/1291546/',\n",
       "  'src': 'https://img3.doubanio.com/view/photo/s_ratio_poster/public/p2561716440.jpg',\n",
       "  'roles': '导演: 陈凯歌 Kaige Chen 主演: 张国荣 Leslie Cheung / 张丰毅 Fengyi Zha... 1993 / 中国大陆 中国香港 / 剧情 爱情 同性'},\n",
       " {'name': '阿甘正传',\n",
       "  'href': 'https://movie.douban.com/subject/1292720/',\n",
       "  'src': 'https://img3.doubanio.com/view/photo/s_ratio_poster/public/p1484728154.jpg',\n",
       "  'roles': '导演: 罗伯特·泽米吉斯 Robert Zemeckis 主演: 汤姆·汉克斯 Tom Hanks / ... 1994 / 美国 / 剧情 爱情'},\n",
       " {'name': '这个杀手不太冷',\n",
       "  'href': 'https://movie.douban.com/subject/1295644/',\n",
       "  'src': 'https://img3.doubanio.com/view/photo/s_ratio_poster/public/p511118051.jpg',\n",
       "  'roles': '导演: 吕克·贝松 Luc Besson 主演: 让·雷诺 Jean Reno / 娜塔莉·波特曼 ... 1994 / 法国 / 剧情 动作 犯罪'},\n",
       " {'name': '美丽人生',\n",
       "  'href': 'https://movie.douban.com/subject/1292063/',\n",
       "  'src': 'https://img3.doubanio.com/view/photo/s_ratio_poster/public/p2578474613.jpg',\n",
       "  'roles': '导演: 罗伯托·贝尼尼 Roberto Benigni 主演: 罗伯托·贝尼尼 Roberto Beni... 1997 / 意大利 / 剧情 喜剧 爱情 战争'},\n",
       " {'name': '泰坦尼克号',\n",
       "  'href': 'https://movie.douban.com/subject/1292722/',\n",
       "  'src': 'https://img3.doubanio.com/view/photo/s_ratio_poster/public/p457760035.jpg',\n",
       "  'roles': '导演: 詹姆斯·卡梅隆 James Cameron 主演: 莱昂纳多·迪卡普里奥 Leonardo... 1997 / 美国 / 剧情 爱情 灾难'},\n",
       " {'name': '千与千寻',\n",
       "  'href': 'https://movie.douban.com/subject/1291561/',\n",
       "  'src': 'https://img3.doubanio.com/view/photo/s_ratio_poster/public/p2557573348.jpg',\n",
       "  'roles': '导演: 宫崎骏 Hayao Miyazaki 主演: 柊瑠美 Rumi Hîragi / 入野自由 Miy... 2001 / 日本 / 剧情 动画 奇幻'},\n",
       " {'name': '辛德勒的名单',\n",
       "  'href': 'https://movie.douban.com/subject/1295124/',\n",
       "  'src': 'https://img3.doubanio.com/view/photo/s_ratio_poster/public/p492406163.jpg',\n",
       "  'roles': '导演: 史蒂文·斯皮尔伯格 Steven Spielberg 主演: 连姆·尼森 Liam Neeson... 1993 / 美国 / 剧情 历史 战争'},\n",
       " {'name': '盗梦空间',\n",
       "  'href': 'https://movie.douban.com/subject/3541415/',\n",
       "  'src': 'https://img3.doubanio.com/view/photo/s_ratio_poster/public/p513344864.jpg',\n",
       "  'roles': '导演: 克里斯托弗·诺兰 Christopher Nolan 主演: 莱昂纳多·迪卡普里奥 Le... 2010 / 美国 英国 / 剧情 科幻 悬疑 冒险'},\n",
       " {'name': '忠犬八公的故事',\n",
       "  'href': 'https://movie.douban.com/subject/3011091/',\n",
       "  'src': 'https://img3.doubanio.com/view/photo/s_ratio_poster/public/p524964016.jpg',\n",
       "  'roles': '导演: 莱塞·霍尔斯道姆 Lasse Hallström 主演: 理查·基尔 Richard Ger... 2009 / 美国 英国 / 剧情'},\n",
       " {'name': '海上钢琴师',\n",
       "  'href': 'https://movie.douban.com/subject/1292001/',\n",
       "  'src': 'https://img3.doubanio.com/view/photo/s_ratio_poster/public/p2574551676.jpg',\n",
       "  'roles': '导演: 朱塞佩·托纳多雷 Giuseppe Tornatore 主演: 蒂姆·罗斯 Tim Roth / ... 1998 / 意大利 / 剧情 音乐'},\n",
       " {'name': '机器人总动员',\n",
       "  'href': 'https://movie.douban.com/subject/2131459/',\n",
       "  'src': 'https://img3.doubanio.com/view/photo/s_ratio_poster/public/p1461851991.jpg',\n",
       "  'roles': '导演: 安德鲁·斯坦顿 Andrew Stanton 主演: 本·贝尔特 Ben Burtt / 艾丽... 2008 / 美国 / 科幻 动画 冒险'},\n",
       " {'name': '三傻大闹宝莱坞',\n",
       "  'href': 'https://movie.douban.com/subject/3793023/',\n",
       "  'src': 'https://img3.doubanio.com/view/photo/s_ratio_poster/public/p579729551.jpg',\n",
       "  'roles': '导演: 拉库马·希拉尼 Rajkumar Hirani 主演: 阿米尔·汗 Aamir Khan / 卡... 2009 / 印度 / 剧情 喜剧 爱情 歌舞'},\n",
       " {'name': '楚门的世界',\n",
       "  'href': 'https://movie.douban.com/subject/1292064/',\n",
       "  'src': 'https://img3.doubanio.com/view/photo/s_ratio_poster/public/p479682972.jpg',\n",
       "  'roles': '导演: 彼得·威尔 Peter Weir 主演: 金·凯瑞 Jim Carrey / 劳拉·琳妮 Lau... 1998 / 美国 / 剧情 科幻'},\n",
       " {'name': '放牛班的春天',\n",
       "  'href': 'https://movie.douban.com/subject/1291549/',\n",
       "  'src': 'https://img3.doubanio.com/view/photo/s_ratio_poster/public/p1910824951.jpg',\n",
       "  'roles': '导演: 克里斯托夫·巴拉蒂 Christophe Barratier 主演: 热拉尔·朱尼奥 Gé... 2004 / 法国 瑞士 德国 / 剧情 音乐'},\n",
       " {'name': '星际穿越',\n",
       "  'href': 'https://movie.douban.com/subject/1889243/',\n",
       "  'src': 'https://img3.doubanio.com/view/photo/s_ratio_poster/public/p2206088801.jpg',\n",
       "  'roles': '导演: 克里斯托弗·诺兰 Christopher Nolan 主演: 马修·麦康纳 Matthew Mc... 2014 / 美国 英国 加拿大 冰岛 / 剧情 科幻 冒险'},\n",
       " {'name': '大话西游之大圣娶亲',\n",
       "  'href': 'https://movie.douban.com/subject/1292213/',\n",
       "  'src': 'https://img3.doubanio.com/view/photo/s_ratio_poster/public/p2455050536.jpg',\n",
       "  'roles': '导演: 刘镇伟 Jeffrey Lau 主演: 周星驰 Stephen Chow / 吴孟达 Man Tat Ng... 1995 / 中国香港 中国大陆 / 喜剧 爱情 奇幻 古装'},\n",
       " {'name': '熔炉',\n",
       "  'href': 'https://movie.douban.com/subject/5912992/',\n",
       "  'src': 'https://img3.doubanio.com/view/photo/s_ratio_poster/public/p1363250216.jpg',\n",
       "  'roles': '导演: 黄东赫 Dong-hyuk Hwang 主演: 孔侑 Yoo Gong / 郑有美 Yu-mi Jeong ... 2011 / 韩国 / 剧情'},\n",
       " {'name': '龙猫',\n",
       "  'href': 'https://movie.douban.com/subject/1291560/',\n",
       "  'src': 'https://img3.doubanio.com/view/photo/s_ratio_poster/public/p2540924496.jpg',\n",
       "  'roles': '导演: 宫崎骏 Hayao Miyazaki 主演: 日高法子 Noriko Hidaka / 坂本千夏 Ch... 1988 / 日本 / 动画 奇幻 冒险'},\n",
       " {'name': '无间道',\n",
       "  'href': 'https://movie.douban.com/subject/1307914/',\n",
       "  'src': 'https://img3.doubanio.com/view/photo/s_ratio_poster/public/p2564556863.jpg',\n",
       "  'roles': '导演: 刘伟强 / 麦兆辉 主演: 刘德华 / 梁朝伟 / 黄秋生 2002 / 中国香港 / 剧情 犯罪 悬疑'},\n",
       " {'name': '教父',\n",
       "  'href': 'https://movie.douban.com/subject/1291841/',\n",
       "  'src': 'https://img3.doubanio.com/view/photo/s_ratio_poster/public/p616779645.jpg',\n",
       "  'roles': '导演: 弗朗西斯·福特·科波拉 Francis Ford Coppola 主演: 马龙·白兰度 M... 1972 / 美国 / 剧情 犯罪'},\n",
       " {'name': '疯狂动物城',\n",
       "  'href': 'https://movie.douban.com/subject/25662329/',\n",
       "  'src': 'https://img3.doubanio.com/view/photo/s_ratio_poster/public/p2315672647.jpg',\n",
       "  'roles': '导演: 拜伦·霍华德 Byron Howard / 瑞奇·摩尔 Rich Moore 主演: 金妮弗·... 2016 / 美国 / 喜剧 动画 冒险'},\n",
       " {'name': '当幸福来敲门',\n",
       "  'href': 'https://movie.douban.com/subject/1849031/',\n",
       "  'src': 'https://img3.doubanio.com/view/photo/s_ratio_poster/public/p1312700628.jpg',\n",
       "  'roles': '导演: 加布里尔·穆奇诺 Gabriele Muccino 主演: 威尔·史密斯 Will Smith ... 2006 / 美国 / 剧情 传记 家庭'},\n",
       " {'name': '怦然心动',\n",
       "  'href': 'https://movie.douban.com/subject/3319755/',\n",
       "  'src': 'https://img3.doubanio.com/view/photo/s_ratio_poster/public/p2220734673.jpg',\n",
       "  'roles': '导演: 罗伯·莱纳 Rob Reiner 主演: 玛德琳·卡罗尔 Madeline Carroll / 卡... 2010 / 美国 / 剧情 喜剧 爱情'},\n",
       " {'name': '触不可及',\n",
       "  'href': 'https://movie.douban.com/subject/6786002/',\n",
       "  'src': 'https://img3.doubanio.com/view/photo/s_ratio_poster/public/p1454259399.jpg',\n",
       "  'roles': '导演: 奥利维·那卡什 Olivier Nakache / 艾力克·托兰达 Eric Toledano 主... 2011 / 法国 / 剧情 喜剧'}]"
      ]
     },
     "execution_count": 83,
     "metadata": {},
     "output_type": "execute_result"
    }
   ],
   "source": [
    "films_info = []\n",
    "for i in range(0, len(a_tag), 2):\n",
    "    name = a_tag[i].img.get('alt')\n",
    "    href = a_tag[i].get('href')\n",
    "    src = a_tag[i].img.get('src')\n",
    "    roles = a_tag[i].find_next(\"p\")\n",
    "    films_info.append(dict(name=name, href=href, src=src, roles=' '.join(roles.text.split())))\n",
    "films_info"
   ]
  },
  {
   "cell_type": "code",
   "execution_count": 87,
   "metadata": {},
   "outputs": [],
   "source": [
    "with open('result.md', 'w', encoding='utf-8') as f:\n",
    "    rank = 0\n",
    "    for film in films_info:\n",
    "        rank += 1\n",
    "        f.write('[%02d. %s](%s)\\n\\n'% (rank, film['name'], film['href']))\n",
    "        f.write('%s...\\n' % film['roles'].split('...')[0])\n",
    "        f.write('%s\\n\\n' % film['roles'].split('...')[1])\n",
    "        f.write('![%s](%s)\\n'% (film['name'], film['src']))\n",
    "\n",
    "        break"
   ]
  },
  {
   "cell_type": "code",
   "execution_count": null,
   "metadata": {},
   "outputs": [],
   "source": []
  }
 ],
 "metadata": {
  "kernelspec": {
   "display_name": "Python 3",
   "language": "python",
   "name": "python3"
  },
  "language_info": {
   "codemirror_mode": {
    "name": "ipython",
    "version": 3
   },
   "file_extension": ".py",
   "mimetype": "text/x-python",
   "name": "python",
   "nbconvert_exporter": "python",
   "pygments_lexer": "ipython3",
   "version": "3.6.4"
  }
 },
 "nbformat": 4,
 "nbformat_minor": 4
}
