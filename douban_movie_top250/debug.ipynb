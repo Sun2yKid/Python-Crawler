{
 "cells": [
  {
   "cell_type": "code",
   "execution_count": 1,
   "metadata": {},
   "outputs": [],
   "source": [
    "from bs4 import BeautifulSoup\n"
   ]
  },
  {
   "cell_type": "code",
   "execution_count": null,
   "metadata": {},
   "outputs": [],
   "source": [
    "soup = BeautifulSoup(open(\"result.html\", encoding=\"utf-8\"))\n",
    "soup"
   ]
  },
  {
   "cell_type": "code",
   "execution_count": null,
   "metadata": {},
   "outputs": [],
   "source": [
    "soup.ol"
   ]
  },
  {
   "cell_type": "code",
   "execution_count": 14,
   "metadata": {},
   "outputs": [],
   "source": [
    "a_tag = soup.ol.find_all('a')"
   ]
  },
  {
   "cell_type": "code",
   "execution_count": 15,
   "metadata": {},
   "outputs": [
    {
     "data": {
      "text/plain": [
       "<a href=\"https://movie.douban.com/subject/1292052/\">\n",
       "<img alt=\"肖申克的救赎\" class=\"\" src=\"https://img3.doubanio.com/view/photo/s_ratio_poster/public/p480747492.jpg\" width=\"100\"/>\n",
       "</a>"
      ]
     },
     "execution_count": 15,
     "metadata": {},
     "output_type": "execute_result"
    }
   ],
   "source": [
    "a_tag[0]"
   ]
  },
  {
   "cell_type": "code",
   "execution_count": 20,
   "metadata": {},
   "outputs": [
    {
     "data": {
      "text/plain": [
       "[<a href=\"https://movie.douban.com/subject/1292052/\">\n",
       " <img alt=\"肖申克的救赎\" class=\"\" src=\"https://img3.doubanio.com/view/photo/s_ratio_poster/public/p480747492.jpg\" width=\"100\"/>\n",
       " </a>, <a class=\"\" href=\"https://movie.douban.com/subject/1292052/\">\n",
       " <span class=\"title\">肖申克的救赎</span>\n",
       " <span class=\"title\"> / The Shawshank Redemption</span>\n",
       " <span class=\"other\"> / 月黑高飞(港)  /  刺激1995(台)</span>\n",
       " </a>]"
      ]
     },
     "execution_count": 20,
     "metadata": {},
     "output_type": "execute_result"
    }
   ],
   "source": [
    "a_tag[:2]"
   ]
  },
  {
   "cell_type": "code",
   "execution_count": 29,
   "metadata": {},
   "outputs": [
    {
     "name": "stdout",
     "output_type": "stream",
     "text": [
      "https://movie.douban.com/subject/1292052/\n",
      "https://movie.douban.com/subject/1291546/\n",
      "https://movie.douban.com/subject/1292720/\n",
      "https://movie.douban.com/subject/1295644/\n",
      "https://movie.douban.com/subject/1292063/\n",
      "https://movie.douban.com/subject/1292722/\n",
      "https://movie.douban.com/subject/1291561/\n",
      "https://movie.douban.com/subject/1295124/\n",
      "https://movie.douban.com/subject/3541415/\n",
      "https://movie.douban.com/subject/3011091/\n",
      "https://movie.douban.com/subject/1292001/\n",
      "https://movie.douban.com/subject/2131459/\n",
      "https://movie.douban.com/subject/3793023/\n",
      "https://movie.douban.com/subject/1292064/\n",
      "https://movie.douban.com/subject/1291549/\n",
      "https://movie.douban.com/subject/1889243/\n",
      "https://movie.douban.com/subject/1292213/\n",
      "https://movie.douban.com/subject/5912992/\n",
      "https://movie.douban.com/subject/1291560/\n",
      "https://movie.douban.com/subject/1307914/\n",
      "https://movie.douban.com/subject/1291841/\n",
      "https://movie.douban.com/subject/25662329/\n",
      "https://movie.douban.com/subject/1849031/\n",
      "https://movie.douban.com/subject/3319755/\n",
      "https://movie.douban.com/subject/6786002/\n"
     ]
    }
   ],
   "source": [
    "for i in range(0, len(a_tag), 2):\n",
    "    print(a_tag[i].get('href'))"
   ]
  },
  {
   "cell_type": "code",
   "execution_count": 30,
   "metadata": {},
   "outputs": [
    {
     "data": {
      "text/plain": [
       "[<a href=\"https://movie.douban.com/subject/1292052/\">\n",
       " <img alt=\"肖申克的救赎\" class=\"\" src=\"https://img3.doubanio.com/view/photo/s_ratio_poster/public/p480747492.jpg\" width=\"100\"/>\n",
       " </a>, <a class=\"\" href=\"https://movie.douban.com/subject/1292052/\">\n",
       " <span class=\"title\">肖申克的救赎</span>\n",
       " <span class=\"title\"> / The Shawshank Redemption</span>\n",
       " <span class=\"other\"> / 月黑高飞(港)  /  刺激1995(台)</span>\n",
       " </a>]"
      ]
     },
     "execution_count": 30,
     "metadata": {},
     "output_type": "execute_result"
    }
   ],
   "source": [
    "a_tag[:2]"
   ]
  },
  {
   "cell_type": "code",
   "execution_count": 31,
   "metadata": {},
   "outputs": [
    {
     "data": {
      "text/plain": [
       "<a href=\"https://movie.douban.com/subject/1292052/\">\n",
       "<img alt=\"肖申克的救赎\" class=\"\" src=\"https://img3.doubanio.com/view/photo/s_ratio_poster/public/p480747492.jpg\" width=\"100\"/>\n",
       "</a>"
      ]
     },
     "execution_count": 31,
     "metadata": {},
     "output_type": "execute_result"
    }
   ],
   "source": [
    "a_tag[0]"
   ]
  },
  {
   "cell_type": "code",
   "execution_count": 33,
   "metadata": {},
   "outputs": [
    {
     "data": {
      "text/plain": [
       "<img alt=\"肖申克的救赎\" class=\"\" src=\"https://img3.doubanio.com/view/photo/s_ratio_poster/public/p480747492.jpg\" width=\"100\"/>"
      ]
     },
     "execution_count": 33,
     "metadata": {},
     "output_type": "execute_result"
    }
   ],
   "source": [
    "a_tag[0].img"
   ]
  },
  {
   "cell_type": "code",
   "execution_count": 34,
   "metadata": {},
   "outputs": [
    {
     "data": {
      "text/plain": [
       "'肖申克的救赎'"
      ]
     },
     "execution_count": 34,
     "metadata": {},
     "output_type": "execute_result"
    }
   ],
   "source": [
    "a_tag[0].img.get('alt')"
   ]
  },
  {
   "cell_type": "code",
   "execution_count": 36,
   "metadata": {},
   "outputs": [
    {
     "data": {
      "text/plain": [
       "'https://img3.doubanio.com/view/photo/s_ratio_poster/public/p480747492.jpg'"
      ]
     },
     "execution_count": 36,
     "metadata": {},
     "output_type": "execute_result"
    }
   ],
   "source": [
    "a_tag[0].img.get('src')"
   ]
  },
  {
   "cell_type": "code",
   "execution_count": 35,
   "metadata": {},
   "outputs": [
    {
     "name": "stdout",
     "output_type": "stream",
     "text": [
      "肖申克的救赎\n",
      "霸王别姬\n",
      "阿甘正传\n",
      "这个杀手不太冷\n",
      "美丽人生\n",
      "泰坦尼克号\n",
      "千与千寻\n",
      "辛德勒的名单\n",
      "盗梦空间\n",
      "忠犬八公的故事\n",
      "海上钢琴师\n",
      "机器人总动员\n",
      "三傻大闹宝莱坞\n",
      "楚门的世界\n",
      "放牛班的春天\n",
      "星际穿越\n",
      "大话西游之大圣娶亲\n",
      "熔炉\n",
      "龙猫\n",
      "无间道\n",
      "教父\n",
      "疯狂动物城\n",
      "当幸福来敲门\n",
      "怦然心动\n",
      "触不可及\n"
     ]
    }
   ],
   "source": [
    "for i in range(0, len(a_tag), 2):\n",
    "    print(a_tag[i].img.get('alt'))"
   ]
  },
  {
   "cell_type": "code",
   "execution_count": 43,
   "metadata": {},
   "outputs": [],
   "source": [
    "base_url = 'https://movie.douban.com/top250'\n",
    "all_pages = [base_url + '?start=%d' % (i*25) for i in range(10)]"
   ]
  },
  {
   "cell_type": "code",
   "execution_count": 44,
   "metadata": {},
   "outputs": [
    {
     "data": {
      "text/plain": [
       "['https://movie.douban.com/top250?start=0',\n",
       " 'https://movie.douban.com/top250?start=25',\n",
       " 'https://movie.douban.com/top250?start=50',\n",
       " 'https://movie.douban.com/top250?start=75',\n",
       " 'https://movie.douban.com/top250?start=100',\n",
       " 'https://movie.douban.com/top250?start=125',\n",
       " 'https://movie.douban.com/top250?start=150',\n",
       " 'https://movie.douban.com/top250?start=175',\n",
       " 'https://movie.douban.com/top250?start=200',\n",
       " 'https://movie.douban.com/top250?start=225']"
      ]
     },
     "execution_count": 44,
     "metadata": {},
     "output_type": "execute_result"
    }
   ],
   "source": [
    "all_pages"
   ]
  },
  {
   "cell_type": "code",
   "execution_count": 46,
   "metadata": {},
   "outputs": [],
   "source": [
    "import requests\n",
    "headers = {'user-agent': 'my-app/0.0.1'}\n",
    "r = requests.get(base_url, headers=headers)"
   ]
  },
  {
   "cell_type": "code",
   "execution_count": 48,
   "metadata": {},
   "outputs": [
    {
     "data": {
      "text/plain": [
       "'utf-8'"
      ]
     },
     "execution_count": 48,
     "metadata": {},
     "output_type": "execute_result"
    }
   ],
   "source": [
    "r.encoding"
   ]
  },
  {
   "cell_type": "code",
   "execution_count": 49,
   "metadata": {},
   "outputs": [
    {
     "data": {
      "text/plain": [
       "bytes"
      ]
     },
     "execution_count": 49,
     "metadata": {},
     "output_type": "execute_result"
    }
   ],
   "source": [
    "type(r.content)"
   ]
  },
  {
   "cell_type": "code",
   "execution_count": 51,
   "metadata": {},
   "outputs": [],
   "source": [
    "s = BeautifulSoup(r.text)"
   ]
  },
  {
   "cell_type": "code",
   "execution_count": null,
   "metadata": {},
   "outputs": [],
   "source": [
    "s"
   ]
  },
  {
   "cell_type": "code",
   "execution_count": 59,
   "metadata": {},
   "outputs": [
    {
     "data": {
      "text/plain": [
       "[{'name': '肖申克的救赎',\n",
       "  'href': 'https://movie.douban.com/subject/1292052/',\n",
       "  'src': 'https://img3.doubanio.com/view/photo/s_ratio_poster/public/p480747492.jpg'},\n",
       " {'name': '霸王别姬',\n",
       "  'href': 'https://movie.douban.com/subject/1291546/',\n",
       "  'src': 'https://img3.doubanio.com/view/photo/s_ratio_poster/public/p480747492.jpg'},\n",
       " {'name': '阿甘正传',\n",
       "  'href': 'https://movie.douban.com/subject/1292720/',\n",
       "  'src': 'https://img3.doubanio.com/view/photo/s_ratio_poster/public/p480747492.jpg'},\n",
       " {'name': '这个杀手不太冷',\n",
       "  'href': 'https://movie.douban.com/subject/1295644/',\n",
       "  'src': 'https://img3.doubanio.com/view/photo/s_ratio_poster/public/p480747492.jpg'},\n",
       " {'name': '美丽人生',\n",
       "  'href': 'https://movie.douban.com/subject/1292063/',\n",
       "  'src': 'https://img3.doubanio.com/view/photo/s_ratio_poster/public/p480747492.jpg'},\n",
       " {'name': '泰坦尼克号',\n",
       "  'href': 'https://movie.douban.com/subject/1292722/',\n",
       "  'src': 'https://img3.doubanio.com/view/photo/s_ratio_poster/public/p480747492.jpg'},\n",
       " {'name': '千与千寻',\n",
       "  'href': 'https://movie.douban.com/subject/1291561/',\n",
       "  'src': 'https://img3.doubanio.com/view/photo/s_ratio_poster/public/p480747492.jpg'},\n",
       " {'name': '辛德勒的名单',\n",
       "  'href': 'https://movie.douban.com/subject/1295124/',\n",
       "  'src': 'https://img3.doubanio.com/view/photo/s_ratio_poster/public/p480747492.jpg'},\n",
       " {'name': '盗梦空间',\n",
       "  'href': 'https://movie.douban.com/subject/3541415/',\n",
       "  'src': 'https://img3.doubanio.com/view/photo/s_ratio_poster/public/p480747492.jpg'},\n",
       " {'name': '忠犬八公的故事',\n",
       "  'href': 'https://movie.douban.com/subject/3011091/',\n",
       "  'src': 'https://img3.doubanio.com/view/photo/s_ratio_poster/public/p480747492.jpg'},\n",
       " {'name': '海上钢琴师',\n",
       "  'href': 'https://movie.douban.com/subject/1292001/',\n",
       "  'src': 'https://img3.doubanio.com/view/photo/s_ratio_poster/public/p480747492.jpg'},\n",
       " {'name': '机器人总动员',\n",
       "  'href': 'https://movie.douban.com/subject/2131459/',\n",
       "  'src': 'https://img3.doubanio.com/view/photo/s_ratio_poster/public/p480747492.jpg'},\n",
       " {'name': '三傻大闹宝莱坞',\n",
       "  'href': 'https://movie.douban.com/subject/3793023/',\n",
       "  'src': 'https://img3.doubanio.com/view/photo/s_ratio_poster/public/p480747492.jpg'},\n",
       " {'name': '楚门的世界',\n",
       "  'href': 'https://movie.douban.com/subject/1292064/',\n",
       "  'src': 'https://img3.doubanio.com/view/photo/s_ratio_poster/public/p480747492.jpg'},\n",
       " {'name': '放牛班的春天',\n",
       "  'href': 'https://movie.douban.com/subject/1291549/',\n",
       "  'src': 'https://img3.doubanio.com/view/photo/s_ratio_poster/public/p480747492.jpg'},\n",
       " {'name': '星际穿越',\n",
       "  'href': 'https://movie.douban.com/subject/1889243/',\n",
       "  'src': 'https://img3.doubanio.com/view/photo/s_ratio_poster/public/p480747492.jpg'},\n",
       " {'name': '大话西游之大圣娶亲',\n",
       "  'href': 'https://movie.douban.com/subject/1292213/',\n",
       "  'src': 'https://img3.doubanio.com/view/photo/s_ratio_poster/public/p480747492.jpg'},\n",
       " {'name': '熔炉',\n",
       "  'href': 'https://movie.douban.com/subject/5912992/',\n",
       "  'src': 'https://img3.doubanio.com/view/photo/s_ratio_poster/public/p480747492.jpg'},\n",
       " {'name': '龙猫',\n",
       "  'href': 'https://movie.douban.com/subject/1291560/',\n",
       "  'src': 'https://img3.doubanio.com/view/photo/s_ratio_poster/public/p480747492.jpg'},\n",
       " {'name': '无间道',\n",
       "  'href': 'https://movie.douban.com/subject/1307914/',\n",
       "  'src': 'https://img3.doubanio.com/view/photo/s_ratio_poster/public/p480747492.jpg'},\n",
       " {'name': '教父',\n",
       "  'href': 'https://movie.douban.com/subject/1291841/',\n",
       "  'src': 'https://img3.doubanio.com/view/photo/s_ratio_poster/public/p480747492.jpg'},\n",
       " {'name': '疯狂动物城',\n",
       "  'href': 'https://movie.douban.com/subject/25662329/',\n",
       "  'src': 'https://img3.doubanio.com/view/photo/s_ratio_poster/public/p480747492.jpg'},\n",
       " {'name': '当幸福来敲门',\n",
       "  'href': 'https://movie.douban.com/subject/1849031/',\n",
       "  'src': 'https://img3.doubanio.com/view/photo/s_ratio_poster/public/p480747492.jpg'},\n",
       " {'name': '怦然心动',\n",
       "  'href': 'https://movie.douban.com/subject/3319755/',\n",
       "  'src': 'https://img3.doubanio.com/view/photo/s_ratio_poster/public/p480747492.jpg'},\n",
       " {'name': '触不可及',\n",
       "  'href': 'https://movie.douban.com/subject/6786002/',\n",
       "  'src': 'https://img3.doubanio.com/view/photo/s_ratio_poster/public/p480747492.jpg'}]"
      ]
     },
     "execution_count": 59,
     "metadata": {},
     "output_type": "execute_result"
    }
   ],
   "source": [
    "films_info = []\n",
    "for i in range(0, len(a_tag), 2):\n",
    "    name = a_tag[i].img.get('alt')\n",
    "    href = a_tag[i].get('href')\n",
    "    src = a_tag[0].img.get('src')\n",
    "    films_info.append(dict(name=name, href=href, src=src))\n",
    "films_info"
   ]
  },
  {
   "cell_type": "code",
   "execution_count": 61,
   "metadata": {},
   "outputs": [],
   "source": [
    "with open('result.md', 'w', encoding='utf-8') as f:\n",
    "    rank = 0\n",
    "    for film in films_info:\n",
    "        rank += 1\n",
    "        f.write('[%02d. %s](%s)\\n\\n'% (rank, film['name'], film['href']))\n",
    "        f.write('![%s](%s)\\n'% (film['name'], film['src']))\n",
    "        break"
   ]
  },
  {
   "cell_type": "code",
   "execution_count": null,
   "metadata": {},
   "outputs": [],
   "source": []
  }
 ],
 "metadata": {
  "kernelspec": {
   "display_name": "Python 3",
   "language": "python",
   "name": "python3"
  },
  "language_info": {
   "codemirror_mode": {
    "name": "ipython",
    "version": 3
   },
   "file_extension": ".py",
   "mimetype": "text/x-python",
   "name": "python",
   "nbconvert_exporter": "python",
   "pygments_lexer": "ipython3",
   "version": "3.6.4"
  }
 },
 "nbformat": 4,
 "nbformat_minor": 4
}
